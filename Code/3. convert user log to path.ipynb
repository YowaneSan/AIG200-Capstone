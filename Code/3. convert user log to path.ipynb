{
 "cells": [
  {
   "cell_type": "code",
   "execution_count": 3,
   "id": "c605b28c-b694-4f00-b809-205e79a79778",
   "metadata": {},
   "outputs": [
    {
     "name": "stdout",
     "output_type": "stream",
     "text": [
      "   user_id                  page_name           timestamp  time_spent\n",
      "0        1             Cardiac_muscle 2023-07-06 08:00:00      1641.0\n",
      "1        1                       Anus 2023-07-06 08:27:21       679.0\n",
      "2        1         Pulmonary_alveolus 2023-07-06 08:38:40      1347.0\n",
      "3        1    Loose_connective_tissue 2023-07-06 09:01:07       615.0\n",
      "4        1  Peripheral_nervous_system 2023-07-06 09:11:22      1070.5\n"
     ]
    }
   ],
   "source": [
    "import pandas as pd\n",
    "\n",
    "# Load user log data\n",
    "user_log = pd.read_csv('user_log.csv')\n",
    "\n",
    "# Rename columns if needed\n",
    "user_log.columns = ['user_id', 'page_name', 'timestamp']\n",
    "\n",
    "# Convert timestamp to datetime\n",
    "user_log['timestamp'] = pd.to_datetime(user_log['timestamp'])\n",
    "\n",
    "# Sort data by user_id and timestamp\n",
    "user_log = user_log.sort_values(by=['user_id', 'timestamp'])\n",
    "\n",
    "# Calculate time spent on each page\n",
    "user_log['next_timestamp'] = user_log.groupby('user_id')['timestamp'].shift(-1)\n",
    "user_log['time_spent'] = (user_log['next_timestamp'] - user_log['timestamp']).dt.total_seconds()\n",
    "\n",
    "# Create a mask for NaN values in time_spent\n",
    "mask = user_log['time_spent'].isna()\n",
    "\n",
    "# Fill NaN values with 0 temporarily\n",
    "user_log.loc[mask, 'time_spent'] = 0\n",
    "\n",
    "# Calculate average time spent per page for each user excluding records where time_spent was initially NaN\n",
    "average_time_spent = user_log[~mask].groupby('user_id')['time_spent'].mean()\n",
    "\n",
    "# Replace 0 values in time_spent with average time spent per user\n",
    "user_log.loc[mask, 'time_spent'] = user_log.loc[mask, 'user_id'].map(average_time_spent)\n",
    "\n",
    "# Drop unnecessary columns\n",
    "user_log = user_log.drop(columns=['next_timestamp'])\n",
    "\n",
    "# Display processed user log data\n",
    "print(user_log.head())\n"
   ]
  },
  {
   "cell_type": "code",
   "execution_count": 4,
   "id": "b0d1b8d6-2068-4fa8-aa4e-630bc7db938e",
   "metadata": {},
   "outputs": [
    {
     "name": "stdout",
     "output_type": "stream",
     "text": [
      "1, ['Cardiac_muscle', 'Anus', 'Pulmonary_alveolus', 'Loose_connective_tissue', 'Peripheral_nervous_system'], [1641.0, 679.0, 1347.0, 615.0, 828.0]\n",
      "2, ['Skeletal_animation', 'Merkel_cell', 'Duodenum', 'Brainstem', 'Lymph_node'], [2383.0, 1425.0, 3125.0, 2400.0, 950.0]\n",
      "3, ['Mammary_gland', 'Mucous_membrane', 'Tonsil', 'Apoptosis', 'Thyroid'], [285.0, 1278.0, 3327.0, 3210.0, 813.0]\n",
      "4, ['Atrium_(heart)', 'Urinary_cast', 'Urinary_retention', 'Axon_terminal', 'Protein'], [808.0, 162.0, 2276.0, 3379.0, 648.0]\n",
      "5, ['Ceruminous_gland', 'Paranasal_sinuses', 'Myelin', 'Mouth', 'Atrium_(heart)'], [2331.0, 2755.0, 210.0, 2345.0, 931.0]\n"
     ]
    }
   ],
   "source": [
    "import pandas as pd\n",
    "\n",
    "# Load user log data (assuming 'user_log.csv' exists in your working directory)\n",
    "user_log = pd.read_csv('user_log.csv')\n",
    "\n",
    "# Rename columns if needed (assuming they are already named correctly)\n",
    "user_log.columns = ['user_id', 'page_name', 'timestamp']\n",
    "\n",
    "# Convert timestamp to datetime\n",
    "user_log['timestamp'] = pd.to_datetime(user_log['timestamp'])\n",
    "\n",
    "# Sort data by user_id and timestamp\n",
    "user_log = user_log.sort_values(by=['user_id', 'timestamp'])\n",
    "\n",
    "# Calculate time spent on each page\n",
    "user_log['next_timestamp'] = user_log.groupby('user_id')['timestamp'].shift(-1)\n",
    "user_log['time_spent'] = (user_log['next_timestamp'] - user_log['timestamp']).dt.total_seconds().fillna(round(average_time_spent/2))\n",
    "\n",
    "# Group by user_id and aggregate paths and time_spent\n",
    "grouped = user_log.groupby('user_id').agg({\n",
    "    'page_name': lambda x: list(x),\n",
    "    'time_spent': lambda x: list(x)\n",
    "}).reset_index()\n",
    "\n",
    "# Format into the desired output format\n",
    "for index, row in grouped.iterrows():\n",
    "    user_id = row['user_id']\n",
    "    paths = row['page_name']\n",
    "    time_spents = row['time_spent']\n",
    "    \n",
    "\n",
    "counter = 0\n",
    "for index, row in grouped.iterrows():\n",
    "    user_id = row['user_id']\n",
    "    paths = row['page_name']\n",
    "    time_spents = row['time_spent']\n",
    "    print(f\"{user_id}, {paths}, {time_spents}\")\n",
    "    counter += 1\n",
    "    if counter >= 5:\n",
    "        break\n"
   ]
  },
  {
   "cell_type": "code",
   "execution_count": 5,
   "id": "21d83691-bd08-4810-861c-54acc5ad6d2b",
   "metadata": {},
   "outputs": [
    {
     "name": "stdout",
     "output_type": "stream",
     "text": [
      "Data saved to 'user_paths.csv'\n"
     ]
    }
   ],
   "source": [
    "import pandas as pd\n",
    "\n",
    "# Load user log data (assuming 'user_log.csv' exists in your working directory)\n",
    "user_log = pd.read_csv('user_log.csv')\n",
    "\n",
    "# Rename columns if needed (assuming they are already named correctly)\n",
    "user_log.columns = ['user_id', 'page_name', 'timestamp']\n",
    "\n",
    "# Convert timestamp to datetime\n",
    "user_log['timestamp'] = pd.to_datetime(user_log['timestamp'])\n",
    "\n",
    "# Sort data by user_id and timestamp\n",
    "user_log = user_log.sort_values(by=['user_id', 'timestamp'])\n",
    "\n",
    "# Calculate time spent on each page\n",
    "user_log['next_timestamp'] = user_log.groupby('user_id')['timestamp'].shift(-1)\n",
    "user_log['time_spent'] = (user_log['next_timestamp'] - user_log['timestamp']).dt.total_seconds().fillna(0)\n",
    "\n",
    "# Group by user_id and aggregate paths and time_spent\n",
    "grouped = user_log.groupby('user_id').agg({\n",
    "    'page_name': lambda x: list(x),\n",
    "    'time_spent': lambda x: list(x)\n",
    "}).reset_index()\n",
    "\n",
    "# Save aggregated data to CSV\n",
    "grouped.to_csv('user_paths.csv', index=False)\n",
    "\n",
    "print(\"Data saved to 'user_paths.csv'\")\n"
   ]
  },
  {
   "cell_type": "code",
   "execution_count": null,
   "id": "3a72426d-6b8f-4cc2-91b2-02228ac0bacf",
   "metadata": {},
   "outputs": [],
   "source": []
  }
 ],
 "metadata": {
  "kernelspec": {
   "display_name": "Python 3 (ipykernel)",
   "language": "python",
   "name": "python3"
  },
  "language_info": {
   "codemirror_mode": {
    "name": "ipython",
    "version": 3
   },
   "file_extension": ".py",
   "mimetype": "text/x-python",
   "name": "python",
   "nbconvert_exporter": "python",
   "pygments_lexer": "ipython3",
   "version": "3.8.0"
  }
 },
 "nbformat": 4,
 "nbformat_minor": 5
}
