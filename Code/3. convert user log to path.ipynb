{
 "cells": [
  {
   "cell_type": "code",
   "execution_count": 10,
   "id": "c605b28c-b694-4f00-b809-205e79a79778",
   "metadata": {},
   "outputs": [
    {
     "name": "stdout",
     "output_type": "stream",
     "text": [
      "     user_id                  page_name           timestamp  time_spent\n",
      "191        1  Peripheral_nervous_system 2023-07-06 08:00:00     1563.00\n",
      "192        1                    Trachea 2023-07-06 08:26:03     1604.00\n",
      "193        1                      Aorta 2023-07-06 08:52:47     2463.00\n",
      "194        1         Stratum_granulosum 2023-07-06 09:33:50     1277.00\n",
      "195        1         Superior_vena_cava 2023-07-06 09:55:07     1726.75\n"
     ]
    }
   ],
   "source": [
    "import pandas as pd\n",
    "\n",
    "# Load user log data\n",
    "user_log = pd.read_csv('user_log.csv')\n",
    "\n",
    "# Rename columns if needed\n",
    "user_log.columns = ['user_id', 'page_name', 'timestamp']\n",
    "\n",
    "# Convert timestamp to datetime\n",
    "user_log['timestamp'] = pd.to_datetime(user_log['timestamp'])\n",
    "\n",
    "# Sort data by user_id and timestamp\n",
    "user_log = user_log.sort_values(by=['user_id', 'timestamp'])\n",
    "\n",
    "# Calculate time spent on each page\n",
    "user_log['next_timestamp'] = user_log.groupby('user_id')['timestamp'].shift(-1)\n",
    "user_log['time_spent'] = (user_log['next_timestamp'] - user_log['timestamp']).dt.total_seconds()\n",
    "\n",
    "# Create a mask for NaN values in time_spent\n",
    "mask = user_log['time_spent'].isna()\n",
    "\n",
    "# Fill NaN values with 0 temporarily\n",
    "user_log.loc[mask, 'time_spent'] = 0\n",
    "\n",
    "# Calculate average time spent per page for each user excluding records where time_spent was initially NaN\n",
    "average_time_spent = user_log[~mask].groupby('user_id')['time_spent'].mean()\n",
    "\n",
    "# Replace 0 values in time_spent with average time spent per user\n",
    "user_log.loc[mask, 'time_spent'] = user_log.loc[mask, 'user_id'].map(average_time_spent)\n",
    "\n",
    "# Drop unnecessary columns\n",
    "user_log = user_log.drop(columns=['next_timestamp'])\n",
    "\n",
    "# Display processed user log data\n",
    "print(user_log.head())\n"
   ]
  },
  {
   "cell_type": "code",
   "execution_count": 12,
   "id": "b0d1b8d6-2068-4fa8-aa4e-630bc7db938e",
   "metadata": {},
   "outputs": [
    {
     "name": "stdout",
     "output_type": "stream",
     "text": [
      "1, ['Peripheral_nervous_system', 'Trachea', 'Aorta', 'Stratum_granulosum', 'Superior_vena_cava'], [1563.0, 1604.0, 2463.0, 1277.0, 1451.0]\n",
      "2, ['Ceruminous_gland', 'Coronary_circulation', 'Capillary', 'Lymphatic_system', 'Trachea'], [2450.0, 1103.0, 1212.0, 1752.0, 762.0]\n",
      "3, ['Skeleton_in_the_closet', 'Stratum_corneum', 'Mouth', 'Axon', 'Neuron'], [372.0, 587.0, 2010.0, 366.0, 768.0]\n",
      "4, ['Pancreas', 'Pulmonary_circulation', 'Peripheral_nervous_system', 'Female_reproductive_system', 'Nutrient'], [1717.0, 60.0, 3179.0, 1081.0, 799.0]\n",
      "5, ['Muscle_relaxant', 'Neural_circuit', 'Subcutaneous_tissue', 'Basement_membrane', 'Salivary_gland'], [3539.0, 2263.0, 1452.0, 1760.0, 677.0]\n"
     ]
    }
   ],
   "source": [
    "import pandas as pd\n",
    "\n",
    "# Load user log data (assuming 'user_log.csv' exists in your working directory)\n",
    "user_log = pd.read_csv('user_log.csv')\n",
    "\n",
    "# Rename columns if needed (assuming they are already named correctly)\n",
    "user_log.columns = ['user_id', 'page_name', 'timestamp']\n",
    "\n",
    "# Convert timestamp to datetime\n",
    "user_log['timestamp'] = pd.to_datetime(user_log['timestamp'])\n",
    "\n",
    "# Sort data by user_id and timestamp\n",
    "user_log = user_log.sort_values(by=['user_id', 'timestamp'])\n",
    "\n",
    "# Calculate time spent on each page\n",
    "user_log['next_timestamp'] = user_log.groupby('user_id')['timestamp'].shift(-1)\n",
    "user_log['time_spent'] = (user_log['next_timestamp'] - user_log['timestamp']).dt.total_seconds().fillna(round(average_time_spent/2))\n",
    "\n",
    "# Group by user_id and aggregate paths and time_spent\n",
    "grouped = user_log.groupby('user_id').agg({\n",
    "    'page_name': lambda x: list(x),\n",
    "    'time_spent': lambda x: list(x)\n",
    "}).reset_index()\n",
    "\n",
    "# Format into the desired output format\n",
    "for index, row in grouped.iterrows():\n",
    "    user_id = row['user_id']\n",
    "    paths = row['page_name']\n",
    "    time_spents = row['time_spent']\n",
    "    \n",
    "\n",
    "counter = 0\n",
    "for index, row in grouped.iterrows():\n",
    "    user_id = row['user_id']\n",
    "    paths = row['page_name']\n",
    "    time_spents = row['time_spent']\n",
    "    print(f\"{user_id}, {paths}, {time_spents}\")\n",
    "    counter += 1\n",
    "    if counter >= 5:\n",
    "        break\n"
   ]
  },
  {
   "cell_type": "code",
   "execution_count": 13,
   "id": "21d83691-bd08-4810-861c-54acc5ad6d2b",
   "metadata": {},
   "outputs": [
    {
     "name": "stdout",
     "output_type": "stream",
     "text": [
      "Data saved to 'user_paths.csv'\n"
     ]
    }
   ],
   "source": [
    "import pandas as pd\n",
    "\n",
    "# Load user log data (assuming 'user_log.csv' exists in your working directory)\n",
    "user_log = pd.read_csv('user_log.csv')\n",
    "\n",
    "# Rename columns if needed (assuming they are already named correctly)\n",
    "user_log.columns = ['user_id', 'page_name', 'timestamp']\n",
    "\n",
    "# Convert timestamp to datetime\n",
    "user_log['timestamp'] = pd.to_datetime(user_log['timestamp'])\n",
    "\n",
    "# Sort data by user_id and timestamp\n",
    "user_log = user_log.sort_values(by=['user_id', 'timestamp'])\n",
    "\n",
    "# Calculate time spent on each page\n",
    "user_log['next_timestamp'] = user_log.groupby('user_id')['timestamp'].shift(-1)\n",
    "user_log['time_spent'] = (user_log['next_timestamp'] - user_log['timestamp']).dt.total_seconds().fillna(0)\n",
    "\n",
    "# Group by user_id and aggregate paths and time_spent\n",
    "grouped = user_log.groupby('user_id').agg({\n",
    "    'page_name': lambda x: list(x),\n",
    "    'time_spent': lambda x: list(x)\n",
    "}).reset_index()\n",
    "\n",
    "# Save aggregated data to CSV\n",
    "grouped.to_csv('user_paths.csv', index=False)\n",
    "\n",
    "print(\"Data saved to 'user_paths.csv'\")\n"
   ]
  },
  {
   "cell_type": "code",
   "execution_count": null,
   "id": "3a72426d-6b8f-4cc2-91b2-02228ac0bacf",
   "metadata": {},
   "outputs": [],
   "source": []
  }
 ],
 "metadata": {
  "kernelspec": {
   "display_name": "Python 3 (ipykernel)",
   "language": "python",
   "name": "python3"
  },
  "language_info": {
   "codemirror_mode": {
    "name": "ipython",
    "version": 3
   },
   "file_extension": ".py",
   "mimetype": "text/x-python",
   "name": "python",
   "nbconvert_exporter": "python",
   "pygments_lexer": "ipython3",
   "version": "3.9.19"
  }
 },
 "nbformat": 4,
 "nbformat_minor": 5
}
