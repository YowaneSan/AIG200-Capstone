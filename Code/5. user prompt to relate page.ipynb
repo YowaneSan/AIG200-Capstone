{
 "cells": [
  {
   "cell_type": "code",
   "execution_count": 9,
   "id": "2f83c3ce-1a49-48b3-8994-65150b869d8f",
   "metadata": {},
   "outputs": [
    {
     "name": "stdout",
     "output_type": "stream",
     "text": [
      "User prompt: 'I want to learn about blood vessels'\n",
      "Top 3 associated page names:\n",
      "1. Blood (Relevance Score: 4.397)\n",
      "2. Blood_vessel (Relevance Score: 4.361)\n",
      "3. Blood_plasma (Relevance Score: 4.308)\n"
     ]
    }
   ],
   "source": [
    "import pandas as pd\n",
    "\n",
    "# Load your keyword data\n",
    "keywords = pd.read_csv('keyword.csv')\n",
    "\n",
    "# Example function for keyword matching with multiple results\n",
    "def match_top_pages(user_prompt, keywords_df, top_n=5):\n",
    "    # Example preprocessing (you may need to customize this based on your data)\n",
    "    processed_prompt = user_prompt.lower()  # Convert to lowercase\n",
    "    # Example keyword extraction (you may use more sophisticated methods here)\n",
    "    keywords = processed_prompt.split()  # Simple split by whitespace\n",
    "    \n",
    "    # Initialize a dictionary to store relevance scores\n",
    "    relevance_scores = {}\n",
    "    \n",
    "    # Iterate over keywords and match against keywords in the dataset\n",
    "    for keyword in keywords:\n",
    "        # Filter rows where keyword appears in any keyword column\n",
    "        matches = keywords_df[keywords_df.apply(lambda x: keyword in x.values, axis=1)]\n",
    "        \n",
    "        # Calculate relevance scores based on your Score columns\n",
    "        for index, row in matches.iterrows():\n",
    "            # Example: sum up scores for simplicity\n",
    "            relevance_score = row[['Score1', 'Score2', 'Score3', 'Score4', 'Score5']].sum()\n",
    "            page_name = row['Title']  # Get the page name\n",
    "            if page_name in relevance_scores:\n",
    "                relevance_scores[page_name] += relevance_score\n",
    "            else:\n",
    "                relevance_scores[page_name] = relevance_score\n",
    "    \n",
    "    # Sort page names by relevance scores in descending order\n",
    "    sorted_pages = sorted(relevance_scores.items(), key=lambda x: x[1], reverse=True)\n",
    "    \n",
    "    # Return the top N page names\n",
    "    top_pages = sorted_pages[:top_n]\n",
    "    \n",
    "    return top_pages\n",
    "\n",
    "# Example usage:\n",
    "user_prompt = \"I want to learn about blood vessels\"\n",
    "top_n = 3  # Number of top pages to retrieve\n",
    "top_pages = match_top_pages(user_prompt, keywords, top_n=top_n)\n",
    "\n",
    "print(f\"User prompt: '{user_prompt}'\")\n",
    "if top_pages:\n",
    "    print(f\"Top {top_n} associated page names:\")\n",
    "    for i, (page_name, relevance_score) in enumerate(top_pages, 1):\n",
    "        print(f\"{i}. {page_name} (Relevance Score: {round(relevance_score,3)})\")\n",
    "else:\n",
    "    print(\"No relevant pages found.\")\n"
   ]
  },
  {
   "cell_type": "code",
   "execution_count": null,
   "id": "974df277-3902-4a44-a14e-046211f0ce65",
   "metadata": {},
   "outputs": [],
   "source": []
  }
 ],
 "metadata": {
  "kernelspec": {
   "display_name": "Python 3 (ipykernel)",
   "language": "python",
   "name": "python3"
  },
  "language_info": {
   "codemirror_mode": {
    "name": "ipython",
    "version": 3
   },
   "file_extension": ".py",
   "mimetype": "text/x-python",
   "name": "python",
   "nbconvert_exporter": "python",
   "pygments_lexer": "ipython3",
   "version": "3.9.19"
  }
 },
 "nbformat": 4,
 "nbformat_minor": 5
}
