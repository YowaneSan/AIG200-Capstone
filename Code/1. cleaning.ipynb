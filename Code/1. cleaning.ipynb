{
 "cells": [
  {
   "cell_type": "code",
   "execution_count": 3,
   "id": "d7fe24f4-2955-42e3-8fda-77cc6087ac4d",
   "metadata": {
    "tags": []
   },
   "outputs": [],
   "source": [
    "import os\n",
    "import re\n",
    "import spacy\n",
    "\n",
    "# Load spacy model\n",
    "nlp = spacy.load(\"en_core_web_sm\")\n",
    "\n",
    "def clean_text(text):\n",
    "    # Remove URLs\n",
    "    text = re.sub(r'http\\S+', '', text)\n",
    "    text = re.sub(r'https\\S+', '', text)\n",
    "    text = re.sub(r'External links', '', text)\n",
    "    \n",
    "    # Process text with spacy\n",
    "    doc = nlp(text)\n",
    "    \n",
    "    # Extract sentences\n",
    "    sentences = [sent.text.strip() for sent in doc.sents if len(sent.text.strip()) > 1]\n",
    "    \n",
    "    # Join sentences to form the cleaned text\n",
    "    cleaned_text = ' '.join(sentences)\n",
    "    return cleaned_text\n",
    "\n",
    "# Define the directory you want to traverse\n",
    "directory = 'Dataset'\n",
    "\n",
    "# Traverse the directory\n",
    "for root, dirs, files in os.walk(directory):\n",
    "    for filename in files:\n",
    "        if filename.endswith('.txt'):  # For each text file\n",
    "            file_path = os.path.join(root, filename)\n",
    "            \n",
    "            # Read the content of the file\n",
    "            try:\n",
    "                with open(file_path, 'r', encoding='utf-8') as file:\n",
    "                    text = file.read()\n",
    "                print(f\"File read successfully: {file_path}\")\n",
    "            except FileNotFoundError:\n",
    "                print(f\"File not found: {file_path}\")\n",
    "                continue\n",
    "            \n",
    "            # Clean text\n",
    "            cleaned_text = clean_text(text)\n",
    "            \n",
    "            # Output cleaned text to the same file (overwrite)\n",
    "            try:\n",
    "                with open(file_path, 'w', encoding='utf-8') as file:\n",
    "                    file.write(cleaned_text)\n",
    "                print(f\"File written successfully: {file_path}\")\n",
    "            except Exception as e:\n",
    "                print(f\"Failed to write to file: {file_path}, Error: {e}\")\n",
    "\n"
   ]
  },
  {
   "cell_type": "code",
   "execution_count": 4,
   "id": "adc85eb2-f500-41ff-baf0-e174b19df87b",
   "metadata": {
    "tags": []
   },
   "outputs": [
    {
     "ename": "NameError",
     "evalue": "name 'cleaned_text' is not defined",
     "output_type": "error",
     "traceback": [
      "\u001b[1;31m---------------------------------------------------------------------------\u001b[0m",
      "\u001b[1;31mNameError\u001b[0m                                 Traceback (most recent call last)",
      "Cell \u001b[1;32mIn[4], line 30\u001b[0m\n\u001b[0;32m     27\u001b[0m     cleaned_stemmed_text \u001b[38;5;241m=\u001b[39m \u001b[38;5;124m'\u001b[39m\u001b[38;5;124m \u001b[39m\u001b[38;5;124m'\u001b[39m\u001b[38;5;241m.\u001b[39mjoin(stemmed_sentences)\n\u001b[0;32m     28\u001b[0m     \u001b[38;5;28;01mreturn\u001b[39;00m cleaned_stemmed_text\n\u001b[1;32m---> 30\u001b[0m cleaned_stemmed_text \u001b[38;5;241m=\u001b[39m clean_and_stem_text(\u001b[43mcleaned_text\u001b[49m)\n\u001b[0;32m     32\u001b[0m \u001b[38;5;28mprint\u001b[39m(\u001b[38;5;124m\"\u001b[39m\u001b[38;5;124mCleaned/Stemmed Text:\u001b[39m\u001b[38;5;124m\"\u001b[39m)\n\u001b[0;32m     33\u001b[0m \u001b[38;5;28mprint\u001b[39m(cleaned_stemmed_text)\n",
      "\u001b[1;31mNameError\u001b[0m: name 'cleaned_text' is not defined"
     ]
    }
   ],
   "source": [
    "import nltk\n",
    "from nltk.stem import PorterStemmer\n",
    "from string import punctuation\n",
    "\n",
    "stemmer = PorterStemmer()\n",
    "\n",
    "def clean_and_stem_text(text):\n",
    "    # Remove URLs\n",
    "    text = re.sub(r'http\\S+', '', text)\n",
    "    \n",
    "    # Process text with spacy\n",
    "    doc = nlp(text)\n",
    "    \n",
    "    # Extract sentences\n",
    "    sentences = [sent.text.strip() for sent in doc.sents if len(sent.text.strip()) > 1]\n",
    "    \n",
    "    # Stem each word\n",
    "    stemmed_sentences = []\n",
    "    for sentence in sentences:\n",
    "        words = nltk.word_tokenize(sentence)\n",
    "        # Remove punctuation and tokens containing numbers\n",
    "        words = [word for word in words if word.isalnum() and not any(char.isdigit() for char in word)]\n",
    "        stemmed_words = [stemmer.stem(word) for word in words]\n",
    "        stemmed_sentences.append(' '.join(stemmed_words))\n",
    "    \n",
    "    # Join sentences \n",
    "    cleaned_stemmed_text = ' '.join(stemmed_sentences)\n",
    "    return cleaned_stemmed_text\n",
    "\n",
    "cleaned_stemmed_text = clean_and_stem_text(cleaned_text)\n",
    "\n",
    "\n",
    "print(\"Cleaned/Stemmed Text:\")\n",
    "print(cleaned_stemmed_text)"
   ]
  },
  {
   "cell_type": "code",
   "execution_count": null,
   "id": "d36b95d5-87d7-484d-9241-659d6fd56a5a",
   "metadata": {},
   "outputs": [],
   "source": []
  }
 ],
 "metadata": {
  "kernelspec": {
   "display_name": "Python 3 (ipykernel)",
   "language": "python",
   "name": "python3"
  },
  "language_info": {
   "codemirror_mode": {
    "name": "ipython",
    "version": 3
   },
   "file_extension": ".py",
   "mimetype": "text/x-python",
   "name": "python",
   "nbconvert_exporter": "python",
   "pygments_lexer": "ipython3",
   "version": "3.8.0"
  }
 },
 "nbformat": 4,
 "nbformat_minor": 5
}
