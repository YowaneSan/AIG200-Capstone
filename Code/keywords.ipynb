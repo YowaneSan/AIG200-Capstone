{
 "cells": [
  {
   "cell_type": "code",
   "execution_count": 3,
   "id": "76cef369-3b59-40b1-907a-90ad05b9bdcc",
   "metadata": {
    "tags": []
   },
   "outputs": [
    {
     "name": "stdout",
     "output_type": "stream",
     "text": [
      "Defaulting to user installation because normal site-packages is not writeable\n",
      "Requirement already satisfied: keybert in c:\\programdata\\anaconda3\\lib\\site-packages (0.8.4)\n",
      "Requirement already satisfied: sentence-transformers>=0.3.8 in c:\\programdata\\anaconda3\\lib\\site-packages (from keybert) (3.0.0)\n",
      "Requirement already satisfied: scikit-learn>=0.22.2 in c:\\programdata\\anaconda3\\lib\\site-packages (from keybert) (1.2.2)\n",
      "Requirement already satisfied: numpy>=1.18.5 in c:\\programdata\\anaconda3\\lib\\site-packages (from keybert) (1.26.3)\n",
      "Requirement already satisfied: rich>=10.4.0 in c:\\programdata\\anaconda3\\lib\\site-packages (from keybert) (13.3.5)\n",
      "Requirement already satisfied: markdown-it-py<3.0.0,>=2.2.0 in c:\\programdata\\anaconda3\\lib\\site-packages (from rich>=10.4.0->keybert) (2.2.0)\n",
      "Requirement already satisfied: pygments<3.0.0,>=2.13.0 in c:\\users\\jeremy chong\\appdata\\roaming\\python\\python311\\site-packages (from rich>=10.4.0->keybert) (2.14.0)\n",
      "Requirement already satisfied: scipy>=1.3.2 in c:\\programdata\\anaconda3\\lib\\site-packages (from scikit-learn>=0.22.2->keybert) (1.11.4)\n",
      "Requirement already satisfied: joblib>=1.1.1 in c:\\programdata\\anaconda3\\lib\\site-packages (from scikit-learn>=0.22.2->keybert) (1.2.0)\n",
      "Requirement already satisfied: threadpoolctl>=2.0.0 in c:\\programdata\\anaconda3\\lib\\site-packages (from scikit-learn>=0.22.2->keybert) (2.2.0)\n",
      "Requirement already satisfied: transformers<5.0.0,>=4.34.0 in c:\\programdata\\anaconda3\\lib\\site-packages (from sentence-transformers>=0.3.8->keybert) (4.41.2)\n",
      "Requirement already satisfied: tqdm in c:\\programdata\\anaconda3\\lib\\site-packages (from sentence-transformers>=0.3.8->keybert) (4.65.0)\n",
      "Requirement already satisfied: torch>=1.11.0 in c:\\programdata\\anaconda3\\lib\\site-packages (from sentence-transformers>=0.3.8->keybert) (2.2.0)\n",
      "Requirement already satisfied: huggingface-hub>=0.15.1 in c:\\programdata\\anaconda3\\lib\\site-packages (from sentence-transformers>=0.3.8->keybert) (0.23.2)\n",
      "Requirement already satisfied: Pillow in c:\\programdata\\anaconda3\\lib\\site-packages (from sentence-transformers>=0.3.8->keybert) (10.0.1)\n",
      "Requirement already satisfied: filelock in c:\\programdata\\anaconda3\\lib\\site-packages (from huggingface-hub>=0.15.1->sentence-transformers>=0.3.8->keybert) (3.13.1)\n",
      "Requirement already satisfied: fsspec>=2023.5.0 in c:\\programdata\\anaconda3\\lib\\site-packages (from huggingface-hub>=0.15.1->sentence-transformers>=0.3.8->keybert) (2023.10.0)\n",
      "Requirement already satisfied: packaging>=20.9 in c:\\users\\jeremy chong\\appdata\\roaming\\python\\python311\\site-packages (from huggingface-hub>=0.15.1->sentence-transformers>=0.3.8->keybert) (23.0)\n",
      "Requirement already satisfied: pyyaml>=5.1 in c:\\programdata\\anaconda3\\lib\\site-packages (from huggingface-hub>=0.15.1->sentence-transformers>=0.3.8->keybert) (6.0.1)\n",
      "Requirement already satisfied: requests in c:\\programdata\\anaconda3\\lib\\site-packages (from huggingface-hub>=0.15.1->sentence-transformers>=0.3.8->keybert) (2.31.0)\n",
      "Requirement already satisfied: typing-extensions>=3.7.4.3 in c:\\programdata\\anaconda3\\lib\\site-packages (from huggingface-hub>=0.15.1->sentence-transformers>=0.3.8->keybert) (4.9.0)\n",
      "Requirement already satisfied: mdurl~=0.1 in c:\\programdata\\anaconda3\\lib\\site-packages (from markdown-it-py<3.0.0,>=2.2.0->rich>=10.4.0->keybert) (0.1.0)\n",
      "Requirement already satisfied: sympy in c:\\programdata\\anaconda3\\lib\\site-packages (from torch>=1.11.0->sentence-transformers>=0.3.8->keybert) (1.12)\n",
      "Requirement already satisfied: networkx in c:\\programdata\\anaconda3\\lib\\site-packages (from torch>=1.11.0->sentence-transformers>=0.3.8->keybert) (3.1)\n",
      "Requirement already satisfied: jinja2 in c:\\programdata\\anaconda3\\lib\\site-packages (from torch>=1.11.0->sentence-transformers>=0.3.8->keybert) (3.1.2)\n",
      "Requirement already satisfied: colorama in c:\\users\\jeremy chong\\appdata\\roaming\\python\\python311\\site-packages (from tqdm->sentence-transformers>=0.3.8->keybert) (0.4.6)\n",
      "Requirement already satisfied: regex!=2019.12.17 in c:\\programdata\\anaconda3\\lib\\site-packages (from transformers<5.0.0,>=4.34.0->sentence-transformers>=0.3.8->keybert) (2023.10.3)\n",
      "Requirement already satisfied: tokenizers<0.20,>=0.19 in c:\\programdata\\anaconda3\\lib\\site-packages (from transformers<5.0.0,>=4.34.0->sentence-transformers>=0.3.8->keybert) (0.19.1)\n",
      "Requirement already satisfied: safetensors>=0.4.1 in c:\\programdata\\anaconda3\\lib\\site-packages (from transformers<5.0.0,>=4.34.0->sentence-transformers>=0.3.8->keybert) (0.4.3)\n",
      "Requirement already satisfied: MarkupSafe>=2.0 in c:\\programdata\\anaconda3\\lib\\site-packages (from jinja2->torch>=1.11.0->sentence-transformers>=0.3.8->keybert) (2.1.3)\n",
      "Requirement already satisfied: charset-normalizer<4,>=2 in c:\\programdata\\anaconda3\\lib\\site-packages (from requests->huggingface-hub>=0.15.1->sentence-transformers>=0.3.8->keybert) (2.0.4)\n",
      "Requirement already satisfied: idna<4,>=2.5 in c:\\programdata\\anaconda3\\lib\\site-packages (from requests->huggingface-hub>=0.15.1->sentence-transformers>=0.3.8->keybert) (3.4)\n",
      "Requirement already satisfied: urllib3<3,>=1.21.1 in c:\\programdata\\anaconda3\\lib\\site-packages (from requests->huggingface-hub>=0.15.1->sentence-transformers>=0.3.8->keybert) (1.26.18)\n",
      "Requirement already satisfied: certifi>=2017.4.17 in c:\\programdata\\anaconda3\\lib\\site-packages (from requests->huggingface-hub>=0.15.1->sentence-transformers>=0.3.8->keybert) (2024.2.2)\n",
      "Requirement already satisfied: mpmath>=0.19 in c:\\programdata\\anaconda3\\lib\\site-packages (from sympy->torch>=1.11.0->sentence-transformers>=0.3.8->keybert) (1.3.0)\n"
     ]
    }
   ],
   "source": [
    "#if needed, run pip install keybert \n",
    "import sys\n",
    "!{sys.executable} -m pip install keybert"
   ]
  },
  {
   "cell_type": "code",
   "execution_count": 19,
   "id": "2db3884e",
   "metadata": {},
   "outputs": [],
   "source": [
    "from keybert import KeyBERT\n",
    "import pandas as pd\n",
    "doc1 = \"\"\"\n",
    "       Sure! The liver is a vital organ in your body that performs a lot of important functions to keep you healthy. It helps clean your blood by removing harmful substances, produces bile which helps in digesting fat, and also stores energy in the form of a sugar called glycogen. Additionally, the liver helps make proteins that are important for blood clotting. This makes it a key player in your overall health and metabolism.\n",
    "      \"\"\"\n",
    "\n",
    "doc2=\"\"\"The lungs are essential organs for breathing. They are responsible for taking in oxygen from the air you breathe and releasing carbon dioxide, which is a waste product of metabolism. When you inhale, air travels down your windpipe (trachea) and into your lungs, where it enters tiny air sacs called alveoli. Here, oxygen passes into your bloodstream and carbon dioxide moves from the blood into the alveoli to be exhaled. The lungs also help regulate the balance of gases in your body and play a role in maintaining the pH of your blood.\"\"\"\n",
    "\n",
    "\n",
    "doc3=\"\"\"The heart is a vital organ that functions as the pump of your circulatory system. It is responsible for circulating blood throughout your body. The heart has four chambers: two upper chambers called atria and two lower chambers called ventricles.\n",
    "\n",
    "Here's how it works:\n",
    "\n",
    "Blood enters the right atrium from the body, low in oxygen.\n",
    "It moves to the right ventricle, which pumps it to the lungs to pick up oxygen and release carbon dioxide.\n",
    "Oxygen-rich blood returns to the left atrium from the lungs.\n",
    "It moves to the left ventricle, which pumps it out to the rest of the body through the aorta.\n",
    "The heart beats continuously, ensuring that oxygen and nutrients reach your tissues and organs, and that waste products are carried away.\n",
    "\n",
    "\"\"\"\n",
    "doc4=\"\"\"\n",
    "The brain is the control center of your body, coordinating most of your body's activities. It processes sensory information, controls physical motions, regulates bodily functions, and enables thoughts, emotions, and memory. Here’s a brief overview of its main functions:\n",
    "\n",
    "Cognitive Processes: The brain is responsible for all aspects of mental processing, including reasoning, decision-making, learning, and memory. It allows you to solve problems, plan ahead, and recall past events.\n",
    "\n",
    "Emotional Responses: The brain processes and interprets emotions, helping you understand and react to feelings both in yourself and others.\n",
    "\n",
    "Motor Control: It directs voluntary movements by sending signals to muscles. This allows you to perform all sorts of activities like walking, talking, and writing.\n",
    "\n",
    "Sensory Processing: It interprets information from your senses (sight, sound, touch, taste, and smell), allowing you to perceive and interact with the world around you.\n",
    "\n",
    "Regulation of Bodily Functions: The brain controls many involuntary functions such as heart rate, breathing, and digestion through the autonomic nervous system.\n",
    "\n",
    "Communication: It processes and produces language, enabling you to communicate with others.\n",
    "\n",
    "Overall, the brain integrates and coordinates the functions of all parts of the body, ensuring they work together harmoniously and efficiently.\n",
    "\n",
    "\"\"\"\n",
    "doc5=\"\"\"\n",
    "The intestines are a crucial part of your digestive system, consisting of the small intestine and the large intestine. They play key roles in digesting food and absorbing nutrients.\n",
    "\n",
    "Small Intestine\n",
    "Digestion: The small intestine continues the digestive process started in the stomach. Digestive enzymes from the pancreas and bile from the liver break down food further.\n",
    "Nutrient Absorption: It is the main site for absorbing nutrients like vitamins, minerals, proteins, and carbohydrates into the bloodstream.\n",
    "Structure: It has three parts: the duodenum, jejunum, and ileum. The inner walls are lined with tiny, finger-like projections called villi, which increase the surface area for absorption.\n",
    "Large Intestine (Colon)\n",
    "Water Absorption: The large intestine absorbs water and salts from the remaining indigestible food matter.\n",
    "Formation of Stool: It compacts the waste into stool.\n",
    "Bacterial Flora: The colon contains beneficial bacteria that help break down remaining nutrients and produce certain vitamins like vitamin K.\n",
    "Structure: It includes the cecum, colon (ascending, transverse, descending, and sigmoid), rectum, and anus.\n",
    "Together, the intestines ensure that your body gets the nutrients it needs and effectively handles waste products.\n",
    "\n",
    "\"\"\"\n",
    "doc6=\"\"\"No one shall ever know the truth behind\n",
    "That fateful day. Artorigus went forth\n",
    "To where the brilliant sword didst lay.\n",
    "‘Twas the first of many feats so great,\n",
    "A legend through and through. We sing of him,\n",
    "Artorigus, the Noble and the brave.\n",
    "-From the Tales of the Noble Knights\n",
    "\"\"\"\n",
    "titles=[\"Liver\",\"Lungs\", \"Heart\",\"Brain\",\"Intestines\",\"Tales of King Arthur\"]\n",
    "docs=[doc1, doc2, doc3, doc4, doc5, doc6]\n",
    "keywords=[]\n",
    "kw_model = KeyBERT()\n",
    "for i in docs:\n",
    "    keywords.append(kw_model.extract_keywords(i))\n"
   ]
  },
  {
   "cell_type": "code",
   "execution_count": 20,
   "id": "c958c4be",
   "metadata": {},
   "outputs": [
    {
     "name": "stdout",
     "output_type": "stream",
     "text": [
      "[[('liver', 0.5561), ('organ', 0.3939), ('metabolism', 0.3718), ('bile', 0.3397), ('digesting', 0.2624)], [('lungs', 0.6139), ('breathing', 0.5517), ('breathe', 0.5095), ('inhale', 0.4877), ('exhaled', 0.4415)], [('ventricles', 0.4725), ('ventricle', 0.4677), ('circulatory', 0.4557), ('organs', 0.4493), ('heart', 0.4368)], [('brain', 0.4565), ('cognitive', 0.4037), ('control', 0.3953), ('emotions', 0.3673), ('controls', 0.3389)], [('intestines', 0.5671), ('digestion', 0.5148), ('intestine', 0.5126), ('digesting', 0.4849), ('digestive', 0.4657)], [('artorigus', 0.5222), ('noble', 0.3469), ('sword', 0.3429), ('knights', 0.3108), ('fateful', 0.2926)]]\n"
     ]
    }
   ],
   "source": [
    "print (keywords)\n"
   ]
  },
  {
   "cell_type": "code",
   "execution_count": 9,
   "id": "230ed3f7",
   "metadata": {},
   "outputs": [],
   "source": [
    "#body systems\n",
    "#1. circulatory/cardiovascular\n",
    "#2. digestive/excretory\n",
    "#3. endocrine\n",
    "#4. exocrine\n",
    "#5. immune system\n",
    "#6. lympahtic system\n",
    "#7. muscular system\n",
    "#8. nervous system\n",
    "#9. reproductive system\n",
    "#10. respiratory system\n",
    "#11. skeletal system\n",
    "#12. urinary system"
   ]
  },
  {
   "cell_type": "code",
   "execution_count": 25,
   "id": "6fd677a0",
   "metadata": {},
   "outputs": [
    {
     "name": "stdout",
     "output_type": "stream",
     "text": [
      "['Liver', '\\n       Sure! The liver is a vital organ in your body that performs a lot of important functions to keep you healthy. It helps clean your blood by removing harmful substances, produces bile which helps in digesting fat, and also stores energy in the form of a sugar called glycogen. Additionally, the liver helps make proteins that are important for blood clotting. This makes it a key player in your overall health and metabolism.\\n      ', [('liver', 0.5561), ('organ', 0.3939), ('metabolism', 0.3718), ('bile', 0.3397), ('digesting', 0.2624)]]\n"
     ]
    }
   ],
   "source": [
    "data=[]\n",
    "for d in range(len(docs)):\n",
    "    data.append([titles[d],docs[d], keywords[d]])\n",
    "print(data[0])\n",
    "\n",
    "df=pd.DataFrame(data=data, columns=[\"Title\",\"Text\", \"Keywords\"])"
   ]
  },
  {
   "cell_type": "code",
   "execution_count": 27,
   "id": "fc5b1f66",
   "metadata": {},
   "outputs": [],
   "source": [
    "df.to_csv('output.csv')"
   ]
  },
  {
   "cell_type": "code",
   "execution_count": null,
   "id": "820334f1",
   "metadata": {},
   "outputs": [],
   "source": []
  }
 ],
 "metadata": {
  "kernelspec": {
   "display_name": "Python 3 (ipykernel)",
   "language": "python",
   "name": "python3"
  },
  "language_info": {
   "codemirror_mode": {
    "name": "ipython",
    "version": 3
   },
   "file_extension": ".py",
   "mimetype": "text/x-python",
   "name": "python",
   "nbconvert_exporter": "python",
   "pygments_lexer": "ipython3",
   "version": "3.11.5"
  }
 },
 "nbformat": 4,
 "nbformat_minor": 5
}
